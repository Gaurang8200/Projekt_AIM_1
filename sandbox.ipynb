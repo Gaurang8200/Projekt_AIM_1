{
  "cells": [
    {
      "cell_type": "code",
      "execution_count": 47,
      "metadata": {
        "id": "m5rH2nKyHMxg"
      },
      "outputs": [],
      "source": [
        "try:\n",
        "  import google.colab\n",
        "  IN_COLAB = True\n",
        "except:\n",
        "  IN_COLAB = False\n"
      ]
    },
    {
      "cell_type": "code",
      "execution_count": 48,
      "metadata": {
        "id": "tP9as0SOE31z",
        "colab": {
          "base_uri": "https://localhost:8080/"
        },
        "outputId": "64a480d8-70cd-4ee8-ed12-2700493bba07"
      },
      "outputs": [
        {
          "output_type": "stream",
          "name": "stdout",
          "text": [
            "Cloning into 'Projekt_AIM_1'...\n",
            "remote: Enumerating objects: 84, done.\u001b[K\n",
            "remote: Counting objects: 100% (84/84), done.\u001b[K\n",
            "remote: Compressing objects: 100% (82/82), done.\u001b[K\n",
            "remote: Total 84 (delta 59), reused 0 (delta 0), pack-reused 0 (from 0)\u001b[K\n",
            "Receiving objects: 100% (84/84), 71.21 KiB | 1.45 MiB/s, done.\n",
            "Resolving deltas: 100% (59/59), done.\n"
          ]
        }
      ],
      "source": [
        "if IN_COLAB:\n",
        "    !rm -rf Projekt_AIM_1\n",
        "    !git clone https://github.com/Gaurang8200/Projekt_AIM_1.git"
      ]
    },
    {
      "cell_type": "code",
      "execution_count": 49,
      "metadata": {
        "id": "7IUVrsIRE2l1",
        "colab": {
          "base_uri": "https://localhost:8080/"
        },
        "outputId": "1fccfe23-cffa-444f-cf63-b3ed2c3c9eff"
      },
      "outputs": [
        {
          "output_type": "stream",
          "name": "stdout",
          "text": [
            "Requirement already satisfied: numpy==1.24.4 in /usr/local/lib/python3.11/dist-packages (from -r Projekt_AIM_1/requirements.txt (line 1)) (1.24.4)\n",
            "Requirement already satisfied: ipython in /usr/local/lib/python3.11/dist-packages (from -r Projekt_AIM_1/requirements.txt (line 2)) (7.34.0)\n",
            "Requirement already satisfied: ipywidgets in /usr/local/lib/python3.11/dist-packages (from -r Projekt_AIM_1/requirements.txt (line 3)) (7.7.1)\n",
            "Requirement already satisfied: kagglehub in /usr/local/lib/python3.11/dist-packages (from -r Projekt_AIM_1/requirements.txt (line 4)) (0.3.12)\n",
            "Requirement already satisfied: plotly in /usr/local/lib/python3.11/dist-packages (from -r Projekt_AIM_1/requirements.txt (line 5)) (5.24.1)\n",
            "Requirement already satisfied: torch in /usr/local/lib/python3.11/dist-packages (from -r Projekt_AIM_1/requirements.txt (line 6)) (2.6.0+cu124)\n",
            "Requirement already satisfied: torchmetrics in /usr/local/lib/python3.11/dist-packages (from -r Projekt_AIM_1/requirements.txt (line 7)) (1.7.1)\n",
            "Requirement already satisfied: torchvision in /usr/local/lib/python3.11/dist-packages (from -r Projekt_AIM_1/requirements.txt (line 8)) (0.21.0+cu124)\n",
            "Requirement already satisfied: jupyter in /usr/local/lib/python3.11/dist-packages (from -r Projekt_AIM_1/requirements.txt (line 9)) (1.1.1)\n",
            "Requirement already satisfied: pandas in /usr/local/lib/python3.11/dist-packages (from -r Projekt_AIM_1/requirements.txt (line 10)) (2.2.2)\n",
            "Requirement already satisfied: torch_tb_profiler in /usr/local/lib/python3.11/dist-packages (from -r Projekt_AIM_1/requirements.txt (line 11)) (0.4.3)\n",
            "Requirement already satisfied: tensorflow in /usr/local/lib/python3.11/dist-packages (from -r Projekt_AIM_1/requirements.txt (line 12)) (2.17.1)\n",
            "Requirement already satisfied: setuptools>=18.5 in /usr/local/lib/python3.11/dist-packages (from ipython->-r Projekt_AIM_1/requirements.txt (line 2)) (75.2.0)\n",
            "Requirement already satisfied: jedi>=0.16 in /usr/local/lib/python3.11/dist-packages (from ipython->-r Projekt_AIM_1/requirements.txt (line 2)) (0.19.2)\n",
            "Requirement already satisfied: decorator in /usr/local/lib/python3.11/dist-packages (from ipython->-r Projekt_AIM_1/requirements.txt (line 2)) (4.4.2)\n",
            "Requirement already satisfied: pickleshare in /usr/local/lib/python3.11/dist-packages (from ipython->-r Projekt_AIM_1/requirements.txt (line 2)) (0.7.5)\n",
            "Requirement already satisfied: traitlets>=4.2 in /usr/local/lib/python3.11/dist-packages (from ipython->-r Projekt_AIM_1/requirements.txt (line 2)) (5.7.1)\n",
            "Requirement already satisfied: prompt-toolkit!=3.0.0,!=3.0.1,<3.1.0,>=2.0.0 in /usr/local/lib/python3.11/dist-packages (from ipython->-r Projekt_AIM_1/requirements.txt (line 2)) (3.0.51)\n",
            "Requirement already satisfied: pygments in /usr/local/lib/python3.11/dist-packages (from ipython->-r Projekt_AIM_1/requirements.txt (line 2)) (2.19.1)\n",
            "Requirement already satisfied: backcall in /usr/local/lib/python3.11/dist-packages (from ipython->-r Projekt_AIM_1/requirements.txt (line 2)) (0.2.0)\n",
            "Requirement already satisfied: matplotlib-inline in /usr/local/lib/python3.11/dist-packages (from ipython->-r Projekt_AIM_1/requirements.txt (line 2)) (0.1.7)\n",
            "Requirement already satisfied: pexpect>4.3 in /usr/local/lib/python3.11/dist-packages (from ipython->-r Projekt_AIM_1/requirements.txt (line 2)) (4.9.0)\n",
            "Requirement already satisfied: ipykernel>=4.5.1 in /usr/local/lib/python3.11/dist-packages (from ipywidgets->-r Projekt_AIM_1/requirements.txt (line 3)) (6.17.1)\n",
            "Requirement already satisfied: ipython-genutils~=0.2.0 in /usr/local/lib/python3.11/dist-packages (from ipywidgets->-r Projekt_AIM_1/requirements.txt (line 3)) (0.2.0)\n",
            "Requirement already satisfied: widgetsnbextension~=3.6.0 in /usr/local/lib/python3.11/dist-packages (from ipywidgets->-r Projekt_AIM_1/requirements.txt (line 3)) (3.6.10)\n",
            "Requirement already satisfied: jupyterlab-widgets>=1.0.0 in /usr/local/lib/python3.11/dist-packages (from ipywidgets->-r Projekt_AIM_1/requirements.txt (line 3)) (3.0.14)\n",
            "Requirement already satisfied: packaging in /usr/local/lib/python3.11/dist-packages (from kagglehub->-r Projekt_AIM_1/requirements.txt (line 4)) (24.2)\n",
            "Requirement already satisfied: pyyaml in /usr/local/lib/python3.11/dist-packages (from kagglehub->-r Projekt_AIM_1/requirements.txt (line 4)) (6.0.2)\n",
            "Requirement already satisfied: requests in /usr/local/lib/python3.11/dist-packages (from kagglehub->-r Projekt_AIM_1/requirements.txt (line 4)) (2.32.3)\n",
            "Requirement already satisfied: tqdm in /usr/local/lib/python3.11/dist-packages (from kagglehub->-r Projekt_AIM_1/requirements.txt (line 4)) (4.67.1)\n",
            "Requirement already satisfied: tenacity>=6.2.0 in /usr/local/lib/python3.11/dist-packages (from plotly->-r Projekt_AIM_1/requirements.txt (line 5)) (9.1.2)\n",
            "Requirement already satisfied: filelock in /usr/local/lib/python3.11/dist-packages (from torch->-r Projekt_AIM_1/requirements.txt (line 6)) (3.18.0)\n",
            "Requirement already satisfied: typing-extensions>=4.10.0 in /usr/local/lib/python3.11/dist-packages (from torch->-r Projekt_AIM_1/requirements.txt (line 6)) (4.13.2)\n",
            "Requirement already satisfied: networkx in /usr/local/lib/python3.11/dist-packages (from torch->-r Projekt_AIM_1/requirements.txt (line 6)) (3.4.2)\n",
            "Requirement already satisfied: jinja2 in /usr/local/lib/python3.11/dist-packages (from torch->-r Projekt_AIM_1/requirements.txt (line 6)) (3.1.6)\n",
            "Requirement already satisfied: fsspec in /usr/local/lib/python3.11/dist-packages (from torch->-r Projekt_AIM_1/requirements.txt (line 6)) (2025.3.2)\n",
            "Requirement already satisfied: nvidia-cuda-nvrtc-cu12==12.4.127 in /usr/local/lib/python3.11/dist-packages (from torch->-r Projekt_AIM_1/requirements.txt (line 6)) (12.4.127)\n",
            "Requirement already satisfied: nvidia-cuda-runtime-cu12==12.4.127 in /usr/local/lib/python3.11/dist-packages (from torch->-r Projekt_AIM_1/requirements.txt (line 6)) (12.4.127)\n",
            "Requirement already satisfied: nvidia-cuda-cupti-cu12==12.4.127 in /usr/local/lib/python3.11/dist-packages (from torch->-r Projekt_AIM_1/requirements.txt (line 6)) (12.4.127)\n",
            "Requirement already satisfied: nvidia-cudnn-cu12==9.1.0.70 in /usr/local/lib/python3.11/dist-packages (from torch->-r Projekt_AIM_1/requirements.txt (line 6)) (9.1.0.70)\n",
            "Requirement already satisfied: nvidia-cublas-cu12==12.4.5.8 in /usr/local/lib/python3.11/dist-packages (from torch->-r Projekt_AIM_1/requirements.txt (line 6)) (12.4.5.8)\n",
            "Requirement already satisfied: nvidia-cufft-cu12==11.2.1.3 in /usr/local/lib/python3.11/dist-packages (from torch->-r Projekt_AIM_1/requirements.txt (line 6)) (11.2.1.3)\n",
            "Requirement already satisfied: nvidia-curand-cu12==10.3.5.147 in /usr/local/lib/python3.11/dist-packages (from torch->-r Projekt_AIM_1/requirements.txt (line 6)) (10.3.5.147)\n",
            "Requirement already satisfied: nvidia-cusolver-cu12==11.6.1.9 in /usr/local/lib/python3.11/dist-packages (from torch->-r Projekt_AIM_1/requirements.txt (line 6)) (11.6.1.9)\n",
            "Requirement already satisfied: nvidia-cusparse-cu12==12.3.1.170 in /usr/local/lib/python3.11/dist-packages (from torch->-r Projekt_AIM_1/requirements.txt (line 6)) (12.3.1.170)\n",
            "Requirement already satisfied: nvidia-cusparselt-cu12==0.6.2 in /usr/local/lib/python3.11/dist-packages (from torch->-r Projekt_AIM_1/requirements.txt (line 6)) (0.6.2)\n",
            "Requirement already satisfied: nvidia-nccl-cu12==2.21.5 in /usr/local/lib/python3.11/dist-packages (from torch->-r Projekt_AIM_1/requirements.txt (line 6)) (2.21.5)\n",
            "Requirement already satisfied: nvidia-nvtx-cu12==12.4.127 in /usr/local/lib/python3.11/dist-packages (from torch->-r Projekt_AIM_1/requirements.txt (line 6)) (12.4.127)\n",
            "Requirement already satisfied: nvidia-nvjitlink-cu12==12.4.127 in /usr/local/lib/python3.11/dist-packages (from torch->-r Projekt_AIM_1/requirements.txt (line 6)) (12.4.127)\n",
            "Requirement already satisfied: triton==3.2.0 in /usr/local/lib/python3.11/dist-packages (from torch->-r Projekt_AIM_1/requirements.txt (line 6)) (3.2.0)\n",
            "Requirement already satisfied: sympy==1.13.1 in /usr/local/lib/python3.11/dist-packages (from torch->-r Projekt_AIM_1/requirements.txt (line 6)) (1.13.1)\n",
            "Requirement already satisfied: mpmath<1.4,>=1.1.0 in /usr/local/lib/python3.11/dist-packages (from sympy==1.13.1->torch->-r Projekt_AIM_1/requirements.txt (line 6)) (1.3.0)\n",
            "Requirement already satisfied: lightning-utilities>=0.8.0 in /usr/local/lib/python3.11/dist-packages (from torchmetrics->-r Projekt_AIM_1/requirements.txt (line 7)) (0.14.3)\n",
            "Requirement already satisfied: pillow!=8.3.*,>=5.3.0 in /usr/local/lib/python3.11/dist-packages (from torchvision->-r Projekt_AIM_1/requirements.txt (line 8)) (11.2.1)\n",
            "Requirement already satisfied: notebook in /usr/local/lib/python3.11/dist-packages (from jupyter->-r Projekt_AIM_1/requirements.txt (line 9)) (6.5.7)\n",
            "Requirement already satisfied: jupyter-console in /usr/local/lib/python3.11/dist-packages (from jupyter->-r Projekt_AIM_1/requirements.txt (line 9)) (6.1.0)\n",
            "Requirement already satisfied: nbconvert in /usr/local/lib/python3.11/dist-packages (from jupyter->-r Projekt_AIM_1/requirements.txt (line 9)) (7.16.6)\n",
            "Requirement already satisfied: jupyterlab in /usr/local/lib/python3.11/dist-packages (from jupyter->-r Projekt_AIM_1/requirements.txt (line 9)) (4.4.1)\n",
            "Requirement already satisfied: python-dateutil>=2.8.2 in /usr/local/lib/python3.11/dist-packages (from pandas->-r Projekt_AIM_1/requirements.txt (line 10)) (2.9.0.post0)\n",
            "Requirement already satisfied: pytz>=2020.1 in /usr/local/lib/python3.11/dist-packages (from pandas->-r Projekt_AIM_1/requirements.txt (line 10)) (2025.2)\n",
            "Requirement already satisfied: tzdata>=2022.7 in /usr/local/lib/python3.11/dist-packages (from pandas->-r Projekt_AIM_1/requirements.txt (line 10)) (2025.2)\n",
            "Requirement already satisfied: tensorboard!=2.1.0,>=1.15 in /usr/local/lib/python3.11/dist-packages (from torch_tb_profiler->-r Projekt_AIM_1/requirements.txt (line 11)) (2.17.1)\n",
            "Requirement already satisfied: absl-py>=1.0.0 in /usr/local/lib/python3.11/dist-packages (from tensorflow->-r Projekt_AIM_1/requirements.txt (line 12)) (1.4.0)\n",
            "Requirement already satisfied: astunparse>=1.6.0 in /usr/local/lib/python3.11/dist-packages (from tensorflow->-r Projekt_AIM_1/requirements.txt (line 12)) (1.6.3)\n",
            "Requirement already satisfied: flatbuffers>=24.3.25 in /usr/local/lib/python3.11/dist-packages (from tensorflow->-r Projekt_AIM_1/requirements.txt (line 12)) (25.2.10)\n",
            "Requirement already satisfied: gast!=0.5.0,!=0.5.1,!=0.5.2,>=0.2.1 in /usr/local/lib/python3.11/dist-packages (from tensorflow->-r Projekt_AIM_1/requirements.txt (line 12)) (0.6.0)\n",
            "Requirement already satisfied: google-pasta>=0.1.1 in /usr/local/lib/python3.11/dist-packages (from tensorflow->-r Projekt_AIM_1/requirements.txt (line 12)) (0.2.0)\n",
            "Requirement already satisfied: h5py>=3.10.0 in /usr/local/lib/python3.11/dist-packages (from tensorflow->-r Projekt_AIM_1/requirements.txt (line 12)) (3.13.0)\n",
            "Requirement already satisfied: libclang>=13.0.0 in /usr/local/lib/python3.11/dist-packages (from tensorflow->-r Projekt_AIM_1/requirements.txt (line 12)) (18.1.1)\n",
            "Requirement already satisfied: ml-dtypes<0.5.0,>=0.3.1 in /usr/local/lib/python3.11/dist-packages (from tensorflow->-r Projekt_AIM_1/requirements.txt (line 12)) (0.4.1)\n",
            "Requirement already satisfied: opt-einsum>=2.3.2 in /usr/local/lib/python3.11/dist-packages (from tensorflow->-r Projekt_AIM_1/requirements.txt (line 12)) (3.4.0)\n",
            "Requirement already satisfied: protobuf!=4.21.0,!=4.21.1,!=4.21.2,!=4.21.3,!=4.21.4,!=4.21.5,<5.0.0dev,>=3.20.3 in /usr/local/lib/python3.11/dist-packages (from tensorflow->-r Projekt_AIM_1/requirements.txt (line 12)) (4.25.7)\n",
            "Requirement already satisfied: six>=1.12.0 in /usr/local/lib/python3.11/dist-packages (from tensorflow->-r Projekt_AIM_1/requirements.txt (line 12)) (1.17.0)\n",
            "Requirement already satisfied: termcolor>=1.1.0 in /usr/local/lib/python3.11/dist-packages (from tensorflow->-r Projekt_AIM_1/requirements.txt (line 12)) (3.0.1)\n",
            "Requirement already satisfied: wrapt>=1.11.0 in /usr/local/lib/python3.11/dist-packages (from tensorflow->-r Projekt_AIM_1/requirements.txt (line 12)) (1.17.2)\n",
            "Requirement already satisfied: grpcio<2.0,>=1.24.3 in /usr/local/lib/python3.11/dist-packages (from tensorflow->-r Projekt_AIM_1/requirements.txt (line 12)) (1.71.0)\n",
            "Requirement already satisfied: keras>=3.2.0 in /usr/local/lib/python3.11/dist-packages (from tensorflow->-r Projekt_AIM_1/requirements.txt (line 12)) (3.8.0)\n",
            "Requirement already satisfied: tensorflow-io-gcs-filesystem>=0.23.1 in /usr/local/lib/python3.11/dist-packages (from tensorflow->-r Projekt_AIM_1/requirements.txt (line 12)) (0.37.1)\n",
            "Requirement already satisfied: wheel<1.0,>=0.23.0 in /usr/local/lib/python3.11/dist-packages (from astunparse>=1.6.0->tensorflow->-r Projekt_AIM_1/requirements.txt (line 12)) (0.45.1)\n",
            "Requirement already satisfied: debugpy>=1.0 in /usr/local/lib/python3.11/dist-packages (from ipykernel>=4.5.1->ipywidgets->-r Projekt_AIM_1/requirements.txt (line 3)) (1.8.0)\n",
            "Requirement already satisfied: jupyter-client>=6.1.12 in /usr/local/lib/python3.11/dist-packages (from ipykernel>=4.5.1->ipywidgets->-r Projekt_AIM_1/requirements.txt (line 3)) (7.4.9)\n",
            "Requirement already satisfied: nest-asyncio in /usr/local/lib/python3.11/dist-packages (from ipykernel>=4.5.1->ipywidgets->-r Projekt_AIM_1/requirements.txt (line 3)) (1.6.0)\n",
            "Requirement already satisfied: psutil in /usr/local/lib/python3.11/dist-packages (from ipykernel>=4.5.1->ipywidgets->-r Projekt_AIM_1/requirements.txt (line 3)) (5.9.5)\n",
            "Requirement already satisfied: pyzmq>=17 in /usr/local/lib/python3.11/dist-packages (from ipykernel>=4.5.1->ipywidgets->-r Projekt_AIM_1/requirements.txt (line 3)) (24.0.1)\n",
            "Requirement already satisfied: tornado>=6.1 in /usr/local/lib/python3.11/dist-packages (from ipykernel>=4.5.1->ipywidgets->-r Projekt_AIM_1/requirements.txt (line 3)) (6.4.2)\n",
            "Requirement already satisfied: parso<0.9.0,>=0.8.4 in /usr/local/lib/python3.11/dist-packages (from jedi>=0.16->ipython->-r Projekt_AIM_1/requirements.txt (line 2)) (0.8.4)\n",
            "Requirement already satisfied: rich in /usr/local/lib/python3.11/dist-packages (from keras>=3.2.0->tensorflow->-r Projekt_AIM_1/requirements.txt (line 12)) (13.9.4)\n",
            "Requirement already satisfied: namex in /usr/local/lib/python3.11/dist-packages (from keras>=3.2.0->tensorflow->-r Projekt_AIM_1/requirements.txt (line 12)) (0.0.9)\n",
            "Requirement already satisfied: optree in /usr/local/lib/python3.11/dist-packages (from keras>=3.2.0->tensorflow->-r Projekt_AIM_1/requirements.txt (line 12)) (0.15.0)\n",
            "Requirement already satisfied: ptyprocess>=0.5 in /usr/local/lib/python3.11/dist-packages (from pexpect>4.3->ipython->-r Projekt_AIM_1/requirements.txt (line 2)) (0.7.0)\n",
            "Requirement already satisfied: wcwidth in /usr/local/lib/python3.11/dist-packages (from prompt-toolkit!=3.0.0,!=3.0.1,<3.1.0,>=2.0.0->ipython->-r Projekt_AIM_1/requirements.txt (line 2)) (0.2.13)\n",
            "Requirement already satisfied: charset-normalizer<4,>=2 in /usr/local/lib/python3.11/dist-packages (from requests->kagglehub->-r Projekt_AIM_1/requirements.txt (line 4)) (3.4.1)\n",
            "Requirement already satisfied: idna<4,>=2.5 in /usr/local/lib/python3.11/dist-packages (from requests->kagglehub->-r Projekt_AIM_1/requirements.txt (line 4)) (3.10)\n",
            "Requirement already satisfied: urllib3<3,>=1.21.1 in /usr/local/lib/python3.11/dist-packages (from requests->kagglehub->-r Projekt_AIM_1/requirements.txt (line 4)) (2.4.0)\n",
            "Requirement already satisfied: certifi>=2017.4.17 in /usr/local/lib/python3.11/dist-packages (from requests->kagglehub->-r Projekt_AIM_1/requirements.txt (line 4)) (2025.4.26)\n",
            "Requirement already satisfied: markdown>=2.6.8 in /usr/local/lib/python3.11/dist-packages (from tensorboard!=2.1.0,>=1.15->torch_tb_profiler->-r Projekt_AIM_1/requirements.txt (line 11)) (3.8)\n",
            "Requirement already satisfied: tensorboard-data-server<0.8.0,>=0.7.0 in /usr/local/lib/python3.11/dist-packages (from tensorboard!=2.1.0,>=1.15->torch_tb_profiler->-r Projekt_AIM_1/requirements.txt (line 11)) (0.7.2)\n",
            "Requirement already satisfied: werkzeug>=1.0.1 in /usr/local/lib/python3.11/dist-packages (from tensorboard!=2.1.0,>=1.15->torch_tb_profiler->-r Projekt_AIM_1/requirements.txt (line 11)) (3.1.3)\n",
            "Requirement already satisfied: argon2-cffi in /usr/local/lib/python3.11/dist-packages (from notebook->jupyter->-r Projekt_AIM_1/requirements.txt (line 9)) (23.1.0)\n",
            "Requirement already satisfied: jupyter-core>=4.6.1 in /usr/local/lib/python3.11/dist-packages (from notebook->jupyter->-r Projekt_AIM_1/requirements.txt (line 9)) (5.7.2)\n",
            "Requirement already satisfied: nbformat in /usr/local/lib/python3.11/dist-packages (from notebook->jupyter->-r Projekt_AIM_1/requirements.txt (line 9)) (5.10.4)\n",
            "Requirement already satisfied: Send2Trash>=1.8.0 in /usr/local/lib/python3.11/dist-packages (from notebook->jupyter->-r Projekt_AIM_1/requirements.txt (line 9)) (1.8.3)\n",
            "Requirement already satisfied: terminado>=0.8.3 in /usr/local/lib/python3.11/dist-packages (from notebook->jupyter->-r Projekt_AIM_1/requirements.txt (line 9)) (0.18.1)\n",
            "Requirement already satisfied: prometheus-client in /usr/local/lib/python3.11/dist-packages (from notebook->jupyter->-r Projekt_AIM_1/requirements.txt (line 9)) (0.21.1)\n",
            "Requirement already satisfied: nbclassic>=0.4.7 in /usr/local/lib/python3.11/dist-packages (from notebook->jupyter->-r Projekt_AIM_1/requirements.txt (line 9)) (1.3.0)\n",
            "Requirement already satisfied: beautifulsoup4 in /usr/local/lib/python3.11/dist-packages (from nbconvert->jupyter->-r Projekt_AIM_1/requirements.txt (line 9)) (4.13.4)\n",
            "Requirement already satisfied: bleach!=5.0.0 in /usr/local/lib/python3.11/dist-packages (from bleach[css]!=5.0.0->nbconvert->jupyter->-r Projekt_AIM_1/requirements.txt (line 9)) (6.2.0)\n",
            "Requirement already satisfied: defusedxml in /usr/local/lib/python3.11/dist-packages (from nbconvert->jupyter->-r Projekt_AIM_1/requirements.txt (line 9)) (0.7.1)\n",
            "Requirement already satisfied: jupyterlab-pygments in /usr/local/lib/python3.11/dist-packages (from nbconvert->jupyter->-r Projekt_AIM_1/requirements.txt (line 9)) (0.3.0)\n",
            "Requirement already satisfied: markupsafe>=2.0 in /usr/local/lib/python3.11/dist-packages (from nbconvert->jupyter->-r Projekt_AIM_1/requirements.txt (line 9)) (3.0.2)\n",
            "Requirement already satisfied: mistune<4,>=2.0.3 in /usr/local/lib/python3.11/dist-packages (from nbconvert->jupyter->-r Projekt_AIM_1/requirements.txt (line 9)) (3.1.3)\n",
            "Requirement already satisfied: nbclient>=0.5.0 in /usr/local/lib/python3.11/dist-packages (from nbconvert->jupyter->-r Projekt_AIM_1/requirements.txt (line 9)) (0.10.2)\n",
            "Requirement already satisfied: pandocfilters>=1.4.1 in /usr/local/lib/python3.11/dist-packages (from nbconvert->jupyter->-r Projekt_AIM_1/requirements.txt (line 9)) (1.5.1)\n",
            "Requirement already satisfied: async-lru>=1.0.0 in /usr/local/lib/python3.11/dist-packages (from jupyterlab->jupyter->-r Projekt_AIM_1/requirements.txt (line 9)) (2.0.5)\n",
            "Requirement already satisfied: httpx>=0.25.0 in /usr/local/lib/python3.11/dist-packages (from jupyterlab->jupyter->-r Projekt_AIM_1/requirements.txt (line 9)) (0.28.1)\n",
            "Requirement already satisfied: jupyter-lsp>=2.0.0 in /usr/local/lib/python3.11/dist-packages (from jupyterlab->jupyter->-r Projekt_AIM_1/requirements.txt (line 9)) (2.2.5)\n",
            "Requirement already satisfied: jupyter-server<3,>=2.4.0 in /usr/local/lib/python3.11/dist-packages (from jupyterlab->jupyter->-r Projekt_AIM_1/requirements.txt (line 9)) (2.15.0)\n",
            "Requirement already satisfied: jupyterlab-server<3,>=2.27.1 in /usr/local/lib/python3.11/dist-packages (from jupyterlab->jupyter->-r Projekt_AIM_1/requirements.txt (line 9)) (2.27.3)\n",
            "Requirement already satisfied: notebook-shim>=0.2 in /usr/local/lib/python3.11/dist-packages (from jupyterlab->jupyter->-r Projekt_AIM_1/requirements.txt (line 9)) (0.2.4)\n",
            "Requirement already satisfied: webencodings in /usr/local/lib/python3.11/dist-packages (from bleach!=5.0.0->bleach[css]!=5.0.0->nbconvert->jupyter->-r Projekt_AIM_1/requirements.txt (line 9)) (0.5.1)\n",
            "Requirement already satisfied: tinycss2<1.5,>=1.1.0 in /usr/local/lib/python3.11/dist-packages (from bleach[css]!=5.0.0->nbconvert->jupyter->-r Projekt_AIM_1/requirements.txt (line 9)) (1.4.0)\n",
            "Requirement already satisfied: anyio in /usr/local/lib/python3.11/dist-packages (from httpx>=0.25.0->jupyterlab->jupyter->-r Projekt_AIM_1/requirements.txt (line 9)) (4.9.0)\n",
            "Requirement already satisfied: httpcore==1.* in /usr/local/lib/python3.11/dist-packages (from httpx>=0.25.0->jupyterlab->jupyter->-r Projekt_AIM_1/requirements.txt (line 9)) (1.0.9)\n",
            "Requirement already satisfied: h11>=0.16 in /usr/local/lib/python3.11/dist-packages (from httpcore==1.*->httpx>=0.25.0->jupyterlab->jupyter->-r Projekt_AIM_1/requirements.txt (line 9)) (0.16.0)\n",
            "Requirement already satisfied: entrypoints in /usr/local/lib/python3.11/dist-packages (from jupyter-client>=6.1.12->ipykernel>=4.5.1->ipywidgets->-r Projekt_AIM_1/requirements.txt (line 3)) (0.4)\n",
            "Requirement already satisfied: platformdirs>=2.5 in /usr/local/lib/python3.11/dist-packages (from jupyter-core>=4.6.1->notebook->jupyter->-r Projekt_AIM_1/requirements.txt (line 9)) (4.3.7)\n",
            "Requirement already satisfied: jupyter-events>=0.11.0 in /usr/local/lib/python3.11/dist-packages (from jupyter-server<3,>=2.4.0->jupyterlab->jupyter->-r Projekt_AIM_1/requirements.txt (line 9)) (0.12.0)\n",
            "Requirement already satisfied: jupyter-server-terminals>=0.4.4 in /usr/local/lib/python3.11/dist-packages (from jupyter-server<3,>=2.4.0->jupyterlab->jupyter->-r Projekt_AIM_1/requirements.txt (line 9)) (0.5.3)\n",
            "Requirement already satisfied: overrides>=5.0 in /usr/local/lib/python3.11/dist-packages (from jupyter-server<3,>=2.4.0->jupyterlab->jupyter->-r Projekt_AIM_1/requirements.txt (line 9)) (7.7.0)\n",
            "Requirement already satisfied: websocket-client>=1.7 in /usr/local/lib/python3.11/dist-packages (from jupyter-server<3,>=2.4.0->jupyterlab->jupyter->-r Projekt_AIM_1/requirements.txt (line 9)) (1.8.0)\n",
            "Requirement already satisfied: argon2-cffi-bindings in /usr/local/lib/python3.11/dist-packages (from argon2-cffi->notebook->jupyter->-r Projekt_AIM_1/requirements.txt (line 9)) (21.2.0)\n",
            "Requirement already satisfied: babel>=2.10 in /usr/local/lib/python3.11/dist-packages (from jupyterlab-server<3,>=2.27.1->jupyterlab->jupyter->-r Projekt_AIM_1/requirements.txt (line 9)) (2.17.0)\n",
            "Requirement already satisfied: json5>=0.9.0 in /usr/local/lib/python3.11/dist-packages (from jupyterlab-server<3,>=2.27.1->jupyterlab->jupyter->-r Projekt_AIM_1/requirements.txt (line 9)) (0.12.0)\n",
            "Requirement already satisfied: jsonschema>=4.18.0 in /usr/local/lib/python3.11/dist-packages (from jupyterlab-server<3,>=2.27.1->jupyterlab->jupyter->-r Projekt_AIM_1/requirements.txt (line 9)) (4.23.0)\n",
            "Requirement already satisfied: fastjsonschema>=2.15 in /usr/local/lib/python3.11/dist-packages (from nbformat->notebook->jupyter->-r Projekt_AIM_1/requirements.txt (line 9)) (2.21.1)\n",
            "Requirement already satisfied: soupsieve>1.2 in /usr/local/lib/python3.11/dist-packages (from beautifulsoup4->nbconvert->jupyter->-r Projekt_AIM_1/requirements.txt (line 9)) (2.7)\n",
            "Requirement already satisfied: markdown-it-py>=2.2.0 in /usr/local/lib/python3.11/dist-packages (from rich->keras>=3.2.0->tensorflow->-r Projekt_AIM_1/requirements.txt (line 12)) (3.0.0)\n",
            "Requirement already satisfied: sniffio>=1.1 in /usr/local/lib/python3.11/dist-packages (from anyio->httpx>=0.25.0->jupyterlab->jupyter->-r Projekt_AIM_1/requirements.txt (line 9)) (1.3.1)\n",
            "Requirement already satisfied: attrs>=22.2.0 in /usr/local/lib/python3.11/dist-packages (from jsonschema>=4.18.0->jupyterlab-server<3,>=2.27.1->jupyterlab->jupyter->-r Projekt_AIM_1/requirements.txt (line 9)) (25.3.0)\n",
            "Requirement already satisfied: jsonschema-specifications>=2023.03.6 in /usr/local/lib/python3.11/dist-packages (from jsonschema>=4.18.0->jupyterlab-server<3,>=2.27.1->jupyterlab->jupyter->-r Projekt_AIM_1/requirements.txt (line 9)) (2025.4.1)\n",
            "Requirement already satisfied: referencing>=0.28.4 in /usr/local/lib/python3.11/dist-packages (from jsonschema>=4.18.0->jupyterlab-server<3,>=2.27.1->jupyterlab->jupyter->-r Projekt_AIM_1/requirements.txt (line 9)) (0.36.2)\n",
            "Requirement already satisfied: rpds-py>=0.7.1 in /usr/local/lib/python3.11/dist-packages (from jsonschema>=4.18.0->jupyterlab-server<3,>=2.27.1->jupyterlab->jupyter->-r Projekt_AIM_1/requirements.txt (line 9)) (0.24.0)\n",
            "Requirement already satisfied: python-json-logger>=2.0.4 in /usr/local/lib/python3.11/dist-packages (from jupyter-events>=0.11.0->jupyter-server<3,>=2.4.0->jupyterlab->jupyter->-r Projekt_AIM_1/requirements.txt (line 9)) (3.3.0)\n",
            "Requirement already satisfied: rfc3339-validator in /usr/local/lib/python3.11/dist-packages (from jupyter-events>=0.11.0->jupyter-server<3,>=2.4.0->jupyterlab->jupyter->-r Projekt_AIM_1/requirements.txt (line 9)) (0.1.4)\n",
            "Requirement already satisfied: rfc3986-validator>=0.1.1 in /usr/local/lib/python3.11/dist-packages (from jupyter-events>=0.11.0->jupyter-server<3,>=2.4.0->jupyterlab->jupyter->-r Projekt_AIM_1/requirements.txt (line 9)) (0.1.1)\n",
            "Requirement already satisfied: mdurl~=0.1 in /usr/local/lib/python3.11/dist-packages (from markdown-it-py>=2.2.0->rich->keras>=3.2.0->tensorflow->-r Projekt_AIM_1/requirements.txt (line 12)) (0.1.2)\n",
            "Requirement already satisfied: cffi>=1.0.1 in /usr/local/lib/python3.11/dist-packages (from argon2-cffi-bindings->argon2-cffi->notebook->jupyter->-r Projekt_AIM_1/requirements.txt (line 9)) (1.17.1)\n",
            "Requirement already satisfied: pycparser in /usr/local/lib/python3.11/dist-packages (from cffi>=1.0.1->argon2-cffi-bindings->argon2-cffi->notebook->jupyter->-r Projekt_AIM_1/requirements.txt (line 9)) (2.22)\n",
            "Requirement already satisfied: fqdn in /usr/local/lib/python3.11/dist-packages (from jsonschema[format-nongpl]>=4.18.0->jupyter-events>=0.11.0->jupyter-server<3,>=2.4.0->jupyterlab->jupyter->-r Projekt_AIM_1/requirements.txt (line 9)) (1.5.1)\n",
            "Requirement already satisfied: isoduration in /usr/local/lib/python3.11/dist-packages (from jsonschema[format-nongpl]>=4.18.0->jupyter-events>=0.11.0->jupyter-server<3,>=2.4.0->jupyterlab->jupyter->-r Projekt_AIM_1/requirements.txt (line 9)) (20.11.0)\n",
            "Requirement already satisfied: jsonpointer>1.13 in /usr/local/lib/python3.11/dist-packages (from jsonschema[format-nongpl]>=4.18.0->jupyter-events>=0.11.0->jupyter-server<3,>=2.4.0->jupyterlab->jupyter->-r Projekt_AIM_1/requirements.txt (line 9)) (3.0.0)\n",
            "Requirement already satisfied: uri-template in /usr/local/lib/python3.11/dist-packages (from jsonschema[format-nongpl]>=4.18.0->jupyter-events>=0.11.0->jupyter-server<3,>=2.4.0->jupyterlab->jupyter->-r Projekt_AIM_1/requirements.txt (line 9)) (1.3.0)\n",
            "Requirement already satisfied: webcolors>=24.6.0 in /usr/local/lib/python3.11/dist-packages (from jsonschema[format-nongpl]>=4.18.0->jupyter-events>=0.11.0->jupyter-server<3,>=2.4.0->jupyterlab->jupyter->-r Projekt_AIM_1/requirements.txt (line 9)) (24.11.1)\n",
            "Requirement already satisfied: arrow>=0.15.0 in /usr/local/lib/python3.11/dist-packages (from isoduration->jsonschema[format-nongpl]>=4.18.0->jupyter-events>=0.11.0->jupyter-server<3,>=2.4.0->jupyterlab->jupyter->-r Projekt_AIM_1/requirements.txt (line 9)) (1.3.0)\n",
            "Requirement already satisfied: types-python-dateutil>=2.8.10 in /usr/local/lib/python3.11/dist-packages (from arrow>=0.15.0->isoduration->jsonschema[format-nongpl]>=4.18.0->jupyter-events>=0.11.0->jupyter-server<3,>=2.4.0->jupyterlab->jupyter->-r Projekt_AIM_1/requirements.txt (line 9)) (2.9.0.20241206)\n",
            "Requirement already satisfied: optuna in /usr/local/lib/python3.11/dist-packages (4.3.0)\n",
            "Requirement already satisfied: alembic>=1.5.0 in /usr/local/lib/python3.11/dist-packages (from optuna) (1.15.2)\n",
            "Requirement already satisfied: colorlog in /usr/local/lib/python3.11/dist-packages (from optuna) (6.9.0)\n",
            "Requirement already satisfied: numpy in /usr/local/lib/python3.11/dist-packages (from optuna) (1.24.4)\n",
            "Requirement already satisfied: packaging>=20.0 in /usr/local/lib/python3.11/dist-packages (from optuna) (24.2)\n",
            "Requirement already satisfied: sqlalchemy>=1.4.2 in /usr/local/lib/python3.11/dist-packages (from optuna) (2.0.40)\n",
            "Requirement already satisfied: tqdm in /usr/local/lib/python3.11/dist-packages (from optuna) (4.67.1)\n",
            "Requirement already satisfied: PyYAML in /usr/local/lib/python3.11/dist-packages (from optuna) (6.0.2)\n",
            "Requirement already satisfied: Mako in /usr/lib/python3/dist-packages (from alembic>=1.5.0->optuna) (1.1.3)\n",
            "Requirement already satisfied: typing-extensions>=4.12 in /usr/local/lib/python3.11/dist-packages (from alembic>=1.5.0->optuna) (4.13.2)\n",
            "Requirement already satisfied: greenlet>=1 in /usr/local/lib/python3.11/dist-packages (from sqlalchemy>=1.4.2->optuna) (3.2.1)\n"
          ]
        }
      ],
      "source": [
        "if IN_COLAB:\n",
        "    !pip3 install -r Projekt_AIM_1/requirements.txt\n",
        "    !pip3 install optuna"
      ]
    },
    {
      "cell_type": "code",
      "execution_count": 50,
      "metadata": {
        "id": "wkD57Ur6E2l2",
        "colab": {
          "base_uri": "https://localhost:8080/"
        },
        "outputId": "fb51ce9a-6e2f-41c1-9ca7-b7a058634c4e"
      },
      "outputs": [
        {
          "output_type": "stream",
          "name": "stdout",
          "text": [
            "cuda\n"
          ]
        }
      ],
      "source": [
        "import torch\n",
        "import torch.nn as nn\n",
        "import torch.optim as optim\n",
        "from torch.utils.data import DataLoader, random_split\n",
        "from torchvision import models\n",
        "from torchvision.models import *\n",
        "from plotly import express as px\n",
        "from collections import Counter\n",
        "import numpy as np\n",
        "import random\n",
        "\n",
        "if(IN_COLAB):\n",
        "    from Projekt_AIM_1.modules.dataset import IntelImageClassificationDataset\n",
        "    from Projekt_AIM_1.modules.utility import NotebookPlotter, InferenceSession, Evaluator, ISO_time, apply_pruning\n",
        "    from Projekt_AIM_1.modules.trainer import Trainer\n",
        "    from Projekt_AIM_1.modules.optuna_optimizer import OptunaTuner\n",
        "    from Projekt_AIM_1.modules.optuna_monashara import run_optuna\n",
        "else:\n",
        "    from modules.dataset import IntelImageClassificationDataset\n",
        "    from modules.utility import NotebookPlotter, InferenceSession, Evaluator, ISO_time, apply_pruning\n",
        "    from modules.trainer import Trainer\n",
        "    from modules.optuna_optimizer import OptunaTuner\n",
        "    from modules.optuna_monashara import run_optuna\n",
        "\n",
        "torch.manual_seed(1)\n",
        "DEVICE = torch.device(\"cuda\" if torch.cuda.is_available() else \"cpu\")\n",
        "print(DEVICE)\n",
        "\n",
        "def set_seed(seed=1):\n",
        "    random.seed(seed)\n",
        "    np.random.seed(seed)\n",
        "    torch.manual_seed(seed)\n",
        "    torch.cuda.manual_seed_all(seed)\n",
        "    torch.backends.cudnn.deterministic = True  # for reproducibility\n",
        "    torch.backends.cudnn.benchmark = False\n",
        "\n",
        "# Removed support for Tensor Units\n",
        "# torch.backends.cudnn.allow_tf32 = True\n",
        "# torch.backends.cuda.matmul.allow_tf32 = True\n",
        "\n",
        "set_seed(1)"
      ]
    },
    {
      "cell_type": "markdown",
      "metadata": {
        "id": "LbHgev5PE2l3"
      },
      "source": [
        "https://www.kaggle.com/datasets/puneet6060/intel-image-classification"
      ]
    },
    {
      "cell_type": "code",
      "execution_count": 51,
      "metadata": {
        "id": "3go5RaM8E2l3"
      },
      "outputs": [],
      "source": [
        "# labels, values = zip(*Counter([item[1] for item in dataset.train_dataset]).items())\n",
        "# fig = px.bar(x=labels, y=values, labels={'x': 'Categories', 'y': 'Counts'}, title='Distribution of Classes')\n",
        "# fig.show()"
      ]
    },
    {
      "cell_type": "markdown",
      "metadata": {
        "id": "KjZypu8jE2l3"
      },
      "source": [
        "| n | label |\n",
        "| --- | --- |\n",
        "| 0 | buildings |\n",
        "| 1 | forest |\n",
        "| 2 | glacier |\n",
        "| 3 | mountain |\n",
        "| 4 | sea |\n",
        "| 5 | street |"
      ]
    },
    {
      "cell_type": "markdown",
      "metadata": {
        "id": "5EJgLtsTE2l4",
        "outputId": "0cf0b3eb-2066-4448-cbc1-ed73f35e5424"
      },
      "source": [
        "NotebookPlotter.plot_dataset_item_interactive(dataset.train_dataset)"
      ]
    },
    {
      "cell_type": "code",
      "execution_count": 52,
      "metadata": {
        "id": "7zDPzrOPHMyG",
        "colab": {
          "base_uri": "https://localhost:8080/",
          "height": 108
        },
        "outputId": "ec70090a-1c5d-4c17-9cbb-5ce3a53a4220"
      },
      "outputs": [
        {
          "output_type": "error",
          "ename": "SyntaxError",
          "evalue": "invalid syntax. Perhaps you forgot a comma? (<ipython-input-52-2b949db846c8>, line 94)",
          "traceback": [
            "\u001b[0;36m  File \u001b[0;32m\"<ipython-input-52-2b949db846c8>\"\u001b[0;36m, line \u001b[0;32m94\u001b[0m\n\u001b[0;31m    n_trials=20\u001b[0m\n\u001b[0m             ^\u001b[0m\n\u001b[0;31mSyntaxError\u001b[0m\u001b[0;31m:\u001b[0m invalid syntax. Perhaps you forgot a comma?\n"
          ]
        }
      ],
      "source": [
        "choice = 1 # 1,2,3\n",
        "freezeLayer = False\n",
        "prune_model = False\n",
        "USE_OPTUNA = False\n",
        "OPTUNA_MO = True\n",
        "\n",
        "if choice != 5:\n",
        "    dataset = IntelImageClassificationDataset(resize=(150,150))\n",
        "else:\n",
        "    dataset = IntelImageClassificationDataset(resize=(384,384))\n",
        "\n",
        "# 80% train, 20% validation for training Optuna\n",
        "train_size = int(0.8 * len(dataset.train_dataset))\n",
        "val_size = len(dataset.train_dataset) - train_size\n",
        "train_subset, val_subset = random_split(dataset.train_dataset, [train_size, val_size], generator=torch.Generator().manual_seed(1))\n",
        "\n",
        "def build_model():\n",
        "\n",
        "  # SqueezeNet 1.1\n",
        "  if choice == 1:\n",
        "      model = models.squeezenet1_1(weights=SqueezeNet1_1_Weights.DEFAULT)\n",
        "      num_features = model.classifier[1].in_channels\n",
        "      kernel_size = model.classifier[1].kernel_size\n",
        "      if(freezeLayer):\n",
        "          for param in model.parameters():\n",
        "              param.requires_grad = False\n",
        "      model.classifier[1] = nn.Conv2d(num_features, 6, kernel_size)\n",
        "\n",
        "\n",
        "  # MobileNetV2\n",
        "  elif choice == 2:\n",
        "      model = models.mobilenet_v2(weights=MobileNet_V2_Weights.DEFAULT)\n",
        "      num_features = model.classifier[1].in_features\n",
        "      if(freezeLayer):\n",
        "          for param in model.parameters():\n",
        "              param.requires_grad = False\n",
        "      model.classifier[1] = nn.Linear(num_features, 6)\n",
        "\n",
        "  # MobileNetV3 Small\n",
        "  elif choice == 3:\n",
        "      model = models.mobilenet_v3_small(weights=MobileNet_V3_Small_Weights.DEFAULT)\n",
        "      num_features = model.classifier[3].in_features\n",
        "      if(freezeLayer):\n",
        "          for param in model.parameters():\n",
        "              param.requires_grad = False\n",
        "      model.classifier[3] = nn.Linear(num_features, 6)\n",
        "\n",
        "  # MobileNetV3 Large\n",
        "  elif choice == 4:\n",
        "      model = models.mobilenet_v3_large(weights=MobileNet_V3_Large_Weights.DEFAULT)\n",
        "      num_features = model.classifier[3].in_features\n",
        "      if(freezeLayer):\n",
        "          for param in model.parameters():\n",
        "              param.requires_grad = False\n",
        "      model.classifier[3] = nn.Linear(num_features, 6)\n",
        "\n",
        "  # VisionTransformer Base 16\n",
        "  elif choice == 5:\n",
        "      model = models.vit_b_16(weights=ViT_B_16_Weights.IMAGENET1K_SWAG_E2E_V1)\n",
        "      num_features = model.heads[0].in_features\n",
        "      if(freezeLayer):\n",
        "          for param in model.parameters():\n",
        "              param.requires_grad = False\n",
        "      model.heads[0] = nn.Linear(num_features, 6)\n",
        "\n",
        "  if prune_model:\n",
        "    model = apply_pruning(model, amount=0.3)\n",
        "\n",
        "  return model\n",
        "\n",
        "if USE_OPTUNA:\n",
        "    tuner = OptunaTuner(\n",
        "        model_fn=build_model,\n",
        "        train_dataset=train_subset,\n",
        "        val_dataset=val_subset,\n",
        "        device=DEVICE\n",
        "    )\n",
        "    study = tuner.run(n_trials=10, seed=1)\n",
        "    print(\"Best trial parameters:\", study.best_trial.params)\n",
        "\n",
        "    best_params = study.best_trial.params\n",
        "    model = build_model()\n",
        "    dataloader = DataLoader(train_subset, batch_size=best_params[\"batch_size\"], shuffle=True)\n",
        "    trainer = Trainer(model=model, lr=best_params[\"lr\"], device=DEVICE)\n",
        "    epochs = best_params[\"epochs\"]\n",
        "\n",
        "elif OPTUNA_MO:\n",
        "    model = build_model()\n",
        "    best_params, best_model_state, study = run_optuna(\n",
        "        model=model,\n",
        "        train_subset=train_subset,\n",
        "        val_subset=val_subset,\n",
        "        TrainerClass=Trainer,\n",
        "        n_trials=20,\n",
        "        seed=1\n",
        "    )\n",
        "    print(\"▶ Best hyperparameters:\", best_params)\n",
        "    print(f\"▶ Best validation accuracy: {study.best_value:.4f}\")\n",
        "\n",
        "    model.load_state_dict(best_model_state)\n",
        "    dataloader = DataLoader(dataset.train_dataset, batch_size=best_params[\"BS_SUGGEST\"], shuffle=True)\n",
        "    trainer = Trainer(model=model, lr=best_params[\"LR_SUGGEST\"], device=DEVICE)\n",
        "    epochs = best_params[\"EPOCHS\"]\n",
        "\n",
        "\n",
        "else:\n",
        "    model = build_model()\n",
        "    dataloader = DataLoader(dataset.train_dataset, batch_size=32, shuffle=True)\n",
        "    trainer = Trainer(model=model, lr=8.841926348917726e-05, device=DEVICE)\n",
        "    epochs = 25"
      ]
    },
    {
      "cell_type": "code",
      "execution_count": null,
      "metadata": {
        "id": "7fsqxg3eRA-f"
      },
      "outputs": [],
      "source": [
        "'''import json\n",
        "import nbformat\n",
        "from google.colab import _message\n",
        "from google.colab.output import eval_js\n",
        "\n",
        "# Fetch current notebook contents via Colab API\n",
        "def get_notebook_contents():\n",
        "    response = _message.blocking_request('get_ipynb', request='')\n",
        "    return response['ipynb']\n",
        "\n",
        "# Clean widget metadata\n",
        "def clean_and_download_notebook(filename=\"sandbox_cleaned.ipynb\"):\n",
        "    nb_dict = get_notebook_contents()\n",
        "\n",
        "    for cell in nb_dict[\"cells\"]:\n",
        "        if \"metadata\" in cell and \"widgets\" in cell[\"metadata\"]:\n",
        "            del cell[\"metadata\"][\"widgets\"]\n",
        "\n",
        "    with open(filename, \"w\", encoding=\"utf-8\") as f:\n",
        "        nbformat.write(nbformat.from_dict(nb_dict), f)\n",
        "\n",
        "    print(f\"✅ Cleaned notebook saved as: {filename}\")\n",
        "\n",
        "clean_and_download_notebook()\n"
      ]
    },
    {
      "cell_type": "code",
      "execution_count": null,
      "metadata": {
        "id": "XW3sIV9KE2l4"
      },
      "outputs": [],
      "source": [
        "# model.load_state_dict(torch.load(f\"checkpoints/.pt\"))\n",
        "trainer.train(dataloader, epochs=epochs, silent=False)"
      ]
    },
    {
      "cell_type": "code",
      "execution_count": null,
      "metadata": {
        "id": "VESPNHBME2l4"
      },
      "outputs": [],
      "source": [
        "session = InferenceSession(model)\n",
        "output = session(torch.stack(tuple(item[0] for item in dataset.test_dataset)))\n",
        "Evaluator.acc(output, torch.tensor(tuple(item[1] for item in dataset.test_dataset))).item()"
      ]
    },
    {
      "cell_type": "code",
      "execution_count": null,
      "metadata": {
        "id": "AO9K7B_yE2l5"
      },
      "outputs": [],
      "source": [
        "# torch.save(model.state_dict(), f\"checkpoints/{model.__class__.__name__}.pt\")"
      ]
    },
    {
      "cell_type": "markdown",
      "metadata": {
        "id": "A3_7nC3JE2l5"
      },
      "source": [
        "## Initial Results for Model Selection\n",
        "\n",
        "| model | accuracy | size |\n",
        "| --- | --- | --- |\n",
        "| ResNet18 | 0.87 | 44.7 MB |\n",
        "| ResNet34 | 0.88 | 83.3 MB |\n",
        "| MobileNet V2 | 0.91 | 13.6 MB |\n",
        "| MobileNet V3 small | 0.90 | 9.8 MB |\n",
        "| VGG19 | 0.83 | 548.1 MB |\n",
        "| SqueezeNet 1.0 | 0.89 | 4.8 MB |\n",
        "| DenseNet | 0.90 | 30.8 MB |\n",
        "| EfficientNet B0 | 0.92 | 20.5 MB |\n",
        "| ViT-b/16 | 0.73 | 330.3 MB |"
      ]
    }
  ],
  "metadata": {
    "accelerator": "GPU",
    "colab": {
      "gpuType": "A100",
      "machine_shape": "hm",
      "provenance": []
    },
    "kernelspec": {
      "display_name": "Python 3",
      "name": "python3"
    },
    "language_info": {
      "codemirror_mode": {
        "name": "ipython",
        "version": 3
      },
      "file_extension": ".py",
      "mimetype": "text/x-python",
      "name": "python",
      "nbconvert_exporter": "python",
      "pygments_lexer": "ipython3",
      "version": "3.10.11"
    }
  },
  "nbformat": 4,
  "nbformat_minor": 0
}