{
 "cells": [
  {
   "cell_type": "markdown",
   "id": "36908711-0dcc-4aa6-a84b-9da48a5340c1",
   "metadata": {},
   "source": [
    "# Prepare the data"
   ]
  },
  {
   "cell_type": "code",
   "execution_count": 6,
   "id": "553ba0a3-5556-4a19-86aa-63d93ace1769",
   "metadata": {},
   "outputs": [
    {
     "name": "stdout",
     "output_type": "stream",
     "text": [
      "Using device: cuda\n",
      "Files already downloaded and verified\n",
      "TensorBoard log dir: runs/20250519-124055\n",
      "Epoch 0 [0/98] Loss: 2.4066\n",
      "Epoch 0 [10/98] Loss: 1.8022\n",
      "Epoch 0 [20/98] Loss: 1.6009\n",
      "Epoch 0 [30/98] Loss: 1.5219\n",
      "Epoch 0 [40/98] Loss: 1.3999\n",
      "Epoch 0 [50/98] Loss: 1.3942\n",
      "Epoch 0 [60/98] Loss: 1.3605\n",
      "Epoch 0 [70/98] Loss: 1.2746\n",
      "Epoch 0 [80/98] Loss: 1.1651\n",
      "Epoch 0 [90/98] Loss: 1.1534\n",
      "✅ Training and profiling complete. View in TensorBoard.\n"
     ]
    }
   ],
   "source": [
    "import torch\n",
    "import torch.nn as nn\n",
    "import torch.nn.functional as F\n",
    "import torch.optim as optim\n",
    "from torch.utils.data import DataLoader\n",
    "from torchvision import datasets, transforms, models\n",
    "from torch.utils.tensorboard import SummaryWriter\n",
    "from torch.profiler import profile, record_function, ProfilerActivity, tensorboard_trace_handler\n",
    "from datetime import datetime\n",
    "import os\n",
    "\n",
    "torch.backends.cudnn.benchmark = True\n",
    "device = torch.device(\"cuda\" if torch.cuda.is_available() else \"cpu\")\n",
    "print(f\"Using device: {device}\")\n",
    "\n",
    "# Transform for CIFAR-10 (RGB, 32x32 → ResNet size 224x224)\n",
    "transform = transforms.Compose([\n",
    "    transforms.Resize((224, 224)),\n",
    "    transforms.ToTensor(),\n",
    "    transforms.Normalize((0.5, 0.5, 0.5), (0.5, 0.5, 0.5))  # 3 channels\n",
    "])\n",
    "\n",
    "# Load CIFAR-10\n",
    "train_dataset = datasets.CIFAR10(root=\"./data\", train=True, transform=transform, download=True)\n",
    "train_loader = DataLoader(train_dataset, batch_size=512, shuffle=True, num_workers=5, pin_memory=False)\n",
    "\n"
   ]
  },
  {
   "cell_type": "markdown",
   "id": "451bfcad-0907-4de8-85e6-055eb736350a",
   "metadata": {},
   "source": [
    "# Training and profiling"
   ]
  },
  {
   "cell_type": "code",
   "execution_count": 3,
   "id": "0f5ac31f-0ecf-43a0-b7ca-a8f5eae15a1d",
   "metadata": {},
   "outputs": [],
   "source": [
    "# torch.cuda.synchronize() is used during training to ensure accurate profiling, \n",
    "# as the profiler may otherwise report shorter or misleading durations due to CUDA's asynchronous execution."
   ]
  },
  {
   "cell_type": "code",
   "execution_count": null,
   "id": "016c042a-6f8a-4a5f-a2e7-21628e09c78e",
   "metadata": {},
   "outputs": [],
   "source": [
    "# Define ResNet18 for 10 classes\n",
    "class ResNetCIFAR(nn.Module):\n",
    "    def __init__(self):\n",
    "        super().__init__()\n",
    "        self.resnet = models.resnet18(weights=None)\n",
    "        self.resnet.fc = nn.Linear(self.resnet.fc.in_features, 10)\n",
    "\n",
    "    def forward(self, x):\n",
    "        return self.resnet(x)\n",
    "\n",
    "model = ResNetCIFAR().to(device)\n",
    "\n",
    "optimizer = optim.Adam(model.parameters(), lr=0.001)\n",
    "\n",
    "# TensorBoard Logging\n",
    "log_dir = os.path.join(\"runs\", datetime.now().strftime(\"%Y%m%d-%H%M%S\"))\n",
    "writer = SummaryWriter(log_dir=log_dir)\n",
    "print(f\"TensorBoard log dir: {log_dir}\")\n",
    "\n",
    "EPOCHS = 1\n",
    "\n",
    "# Profiler setup\n",
    "with profile(\n",
    "    activities=[ProfilerActivity.CPU, ProfilerActivity.CUDA],\n",
    "    schedule=torch.profiler.schedule(wait=2, warmup=2, active=6, repeat=1),\n",
    "    on_trace_ready=tensorboard_trace_handler(log_dir),\n",
    "    record_shapes=True,\n",
    "    profile_memory=True,\n",
    "    with_stack=True\n",
    ") as prof:\n",
    "\n",
    "    step = 0\n",
    "    model.train()\n",
    "\n",
    "    for epoch in range(EPOCHS):\n",
    "        for batch_idx, (images, labels) in enumerate(train_loader):\n",
    "            images = images.to(device, non_blocking=True)\n",
    "            labels = labels.to(device, non_blocking=True)\n",
    "\n",
    "            torch.cuda.synchronize()\n",
    "            optimizer.zero_grad()\n",
    "\n",
    "            with record_function(\"model_training_step\"):\n",
    "                outputs = model(images).float()\n",
    "\n",
    "                with record_function(\"loss_computation\"):\n",
    "                    loss = F.cross_entropy(outputs, labels)\n",
    "\n",
    "                loss.backward()\n",
    "                optimizer.step()\n",
    "\n",
    "            torch.cuda.synchronize()\n",
    "\n",
    "            writer.add_scalar(\"Loss/train\", loss.item(), step)\n",
    "            prof.step()\n",
    "            step += 1\n",
    "\n",
    "            if batch_idx % 10 == 0:\n",
    "                print(f\"Epoch {epoch} [{batch_idx}/{len(train_loader)}] Loss: {loss.item():.4f}\")\n",
    "\n",
    "writer.close()\n",
    "print(\"Training and profiling complete.\")\n"
   ]
  },
  {
   "cell_type": "code",
   "execution_count": null,
   "id": "3ddefbde-1bb5-466c-bd1b-7330c0715eb4",
   "metadata": {},
   "outputs": [],
   "source": []
  }
 ],
 "metadata": {
  "kernelspec": {
   "display_name": "Python 3 (ipykernel)",
   "language": "python",
   "name": "python3"
  },
  "language_info": {
   "codemirror_mode": {
    "name": "ipython",
    "version": 3
   },
   "file_extension": ".py",
   "mimetype": "text/x-python",
   "name": "python",
   "nbconvert_exporter": "python",
   "pygments_lexer": "ipython3",
   "version": "3.10.12"
  }
 },
 "nbformat": 4,
 "nbformat_minor": 5
}
